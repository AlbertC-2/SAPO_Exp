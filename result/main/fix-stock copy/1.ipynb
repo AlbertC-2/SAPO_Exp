{
 "cells": [
  {
   "cell_type": "code",
   "execution_count": 2,
   "metadata": {},
   "outputs": [
    {
     "data": {
      "image/png": "[encoded data removed]",
      "text/plain": [
       "<Figure size 500x300 with 1 Axes>"
      ]
     },
     "metadata": {},
     "output_type": "display_data"
    }
   ],
   "source": [
    "import pandas as pd\n",
    "import matplotlib.pyplot as plt\n",
    "import ast\n",
    "import numpy as np  # Import numpy for handling log10\n",
    "\n",
    "# 文件名和对应颜色\n",
    "file_colors = {\n",
    "    'hybrid-6-2to10.csv': 'tab:blue',\n",
    "    'qiskit-6-2to10.csv': 'tab:orange',\n",
    "    'sapo_without_eigen-6-2to10.csv': 'tab:green',\n",
    "    'sapo_without_scale-6-2to10.csv': 'tab:red',\n",
    "    'sapo-6-2to10.csv': 'tab:purple'\n",
    "}\n",
    "\n",
    "# 存储每个文件的数据框\n",
    "dfs = {}\n",
    "\n",
    "# 读取CSV文件并计算绝对值平均值\n",
    "for file_name, color in file_colors.items():\n",
    "    df = pd.read_csv(file_name)\n",
    "    df['tickers'] = df['tickers'].apply(lambda x: ast.literal_eval(x) if pd.notnull(x) and x != '[]' else [])\n",
    "    df['acc'] = df['acc'].apply(abs)\n",
    "    avg_values = df.groupby('num_qubits')['acc'].mean()\n",
    "    dfs[file_name] = {'num_assets': avg_values.index, 'acc_avg': avg_values.values, 'color': color}\n",
    "\n",
    "# Set font family and font size\n",
    "plt.rcParams['font.family'] = 'Times New Roman'\n",
    "plt.rcParams['font.size'] = 12  # Adjust the font size as needed\n",
    "\n",
    "# 绘制柱状图\n",
    "plt.figure(figsize=(5, 3))\n",
    "\n",
    "bar_width = 0.3\n",
    "bar_positions = []\n",
    "\n",
    "for i, (file_name, data) in enumerate(dfs.items()):\n",
    "    positions = [pos + (i - 2) * bar_width for pos in data['num_assets']]\n",
    "    plt.bar(positions, data['acc_avg'], label=file_name, color=data['color'], width=bar_width, edgecolor='black')\n",
    "    bar_positions.extend(positions)\n",
    "\n",
    "# plt.xlabel('number of stocks', fontname='Times New Roman', fontsize=20)  # Increase font size\n",
    "# plt.ylabel('accuracy', fontname='Times New Roman', fontsize=20)  # Increase font size\n",
    "# plt.title('Average |acc| for Each num_assets', fontname='Times New Roman')\n",
    "\n",
    "plt.yscale('log')  # Set the y-axis to logarithmic scale\n",
    "\n",
    "# Place the legend above the plot\n",
    "# plt.legend(loc='upper center', bbox_to_anchor=(1, 3), ncol=len(dfs), prop={'family': 'Times New Roman', 'size': 14})  # Adjust the font size in the legend\n",
    "\n",
    "# Save the plot as an SVG file\n",
    "plt.ylim(0.0001, 4)\n",
    "plt.savefig('p1.svg', format='svg', bbox_inches='tight')\n",
    "\n",
    "plt.show()\n"
   ]
  }
 ],
 "metadata": {
  "kernelspec": {
   "display_name": "Python 3",
   "language": "python",
   "name": "python3"
  },
  "language_info": {
   "codemirror_mode": {
    "name": "ipython",
    "version": 3
   },
   "file_extension": ".py",
   "mimetype": "text/x-python",
   "name": "python",
   "nbconvert_exporter": "python",
   "pygments_lexer": "ipython3",
   "version": "3.10.9"
  },
  "orig_nbformat": 4
 },
 "nbformat": 4,
 "nbformat_minor": 2
}
