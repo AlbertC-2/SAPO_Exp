{
 "cells": [
  {
   "cell_type": "markdown",
   "metadata": {},
   "source": [
    "- 根据 phase_qubit_num, vector_qubit_num 计算电路深度和CNOT门数量\n",
    "    - 可利用数列通项公式直接计算"
   ]
  },
  {
   "cell_type": "code",
   "execution_count": 13,
   "metadata": {},
   "outputs": [
    {
     "name": "stdout",
     "output_type": "stream",
     "text": [
      "935\n",
      "0\n"
     ]
    }
   ],
   "source": [
    "def calculate_an(\n",
    "    n,  # phase_qubit_num\n",
    "    vector_qubit_num,\n",
    "    an_type,  # 'Depth' or 'CNOT'\n",
    "    params_dict,\n",
    "):\n",
    "    params_key = (vector_qubit_num, an_type)\n",
    "    params = params_dict.get(\n",
    "        params_key,\n",
    "        {\n",
    "            'a': 0,\n",
    "            'b': 0,\n",
    "            'c': 0,\n",
    "            'd': 0,\n",
    "            'e': 0,\n",
    "        },\n",
    "    )\n",
    "    \n",
    "    a = params.get('a')\n",
    "    b = params.get('b')\n",
    "    c = params.get('c')\n",
    "    d = params.get('d')\n",
    "    e = params.get('e')\n",
    "    \n",
    "    an = a * b**n + c * n**2 + d * n + e\n",
    "    return an\n",
    "\n",
    "\n",
    "params_dict = {\n",
    "    (2, 'Depth'): {'a': 132, 'b': 2, 'c': 0, 'd': 4, 'e': -133},\n",
    "    (2, 'CNOT') : {'a': 69, 'b': 2, 'c': 2, 'd': -2, 'e': -67},\n",
    "    (3, 'Depth'): {'a': 792, 'b': 2, 'c': 0, 'd': 4, 'e': -789},\n",
    "    (3, 'CNOT') : {'a': 417, 'b': 2, 'c': 2, 'd': -2, 'e': -413},\n",
    "    (4, 'Depth'): {'a': 3856, 'b': 2, 'c': 0, 'd': 4, 'e': -3845},\n",
    "    (4, 'CNOT') : {'a': 2033, 'b': 2, 'c': 2, 'd': -2, 'e': -2025},\n",
    "}\n",
    "\n",
    "# 调用函数并传入不同的 x 值\n",
    "result_1 = calculate_an(3, 2, 'Depth', params_dict)  # 获取 x = 1 对应的参数集合\n",
    "result_2 = calculate_an(2, 5, 'Depth', params_dict)  # 使用默认参数集合\n",
    "\n",
    "print(result_1)\n",
    "print(result_2)\n"
   ]
  },
  {
   "cell_type": "markdown",
   "metadata": {},
   "source": [
    "# vector_qubit_num = 2\n",
    "\n",
    "- 对应数据在 c_results_temp_2.csv"
   ]
  },
  {
   "cell_type": "markdown",
   "metadata": {},
   "source": [
    "## Depth"
   ]
  },
  {
   "cell_type": "code",
   "execution_count": 1,
   "metadata": {},
   "outputs": [],
   "source": [
    "\"\"\"用于找规律的函数\"\"\"\n",
    "# 一阶差\n",
    "def calculate_difference(l):\n",
    "    differences = []\n",
    "    for i in range(1, len(l)):\n",
    "        difference = l[i] - l[i-1] * 2\n",
    "        differences.append(difference)\n",
    "    return differences\n",
    "\n",
    "# 二阶差\n",
    "def calculate_difference2(l):\n",
    "    differences = []\n",
    "    for i in range(1, len(l)):\n",
    "        difference = l[i] - l[i-1]\n",
    "        differences.append(difference)\n",
    "    return differences"
   ]
  },
  {
   "cell_type": "code",
   "execution_count": 3,
   "metadata": {},
   "outputs": [
    {
     "name": "stdout",
     "output_type": "stream",
     "text": [
      "[127, 133, 125, 121, 117, 113, 109, 105, 101]\n",
      "[6, -8, -4, -4, -4, -4, -4, -4]\n"
     ]
    }
   ],
   "source": [
    "l = [137, 401, 935, 1995, 4111, 8339, 16791, 33691, 67487, 135075,]\n",
    "result = calculate_difference(l)\n",
    "print(result)\n",
    "\n",
    "result2 = calculate_difference2(result)\n",
    "print(result2)"
   ]
  },
  {
   "cell_type": "code",
   "execution_count": 5,
   "metadata": {},
   "outputs": [
    {
     "name": "stdout",
     "output_type": "stream",
     "text": [
      "a[1] = 135\n",
      "a[2] = 403\n",
      "a[3] = 935\n",
      "a[4] = 1995\n",
      "a[5] = 4111\n",
      "a[6] = 8339\n",
      "a[7] = 16791\n",
      "a[8] = 33691\n",
      "a[9] = 67487\n",
      "a[10] = 135075\n",
      "a[11] = 270247\n",
      "a[12] = 540587\n"
     ]
    }
   ],
   "source": [
    "def calculate_an(n):\n",
    "    a = 132\n",
    "    b = 2\n",
    "    c = 0\n",
    "    d = 4\n",
    "    e = -133\n",
    "    \n",
    "    an = a * b**n + c * n**2 + d * n + e\n",
    "    return an\n",
    "\n",
    "for phase_qubit_num in range(1, 13, 1):\n",
    "    print(f\"a[{phase_qubit_num}] = {calculate_an(phase_qubit_num)}\")"
   ]
  },
  {
   "cell_type": "markdown",
   "metadata": {},
   "source": [
    "## CNOT"
   ]
  },
  {
   "cell_type": "code",
   "execution_count": 4,
   "metadata": {},
   "outputs": [
    {
     "name": "stdout",
     "output_type": "stream",
     "text": [
      "[71, 71, 67, 59, 47, 31, 11, -13, -41]\n",
      "[0, -4, -8, -12, -16, -20, -24, -28]\n"
     ]
    }
   ],
   "source": [
    "l = [71, 213, 497, 1061, 2181, 4409, 8849, 17709, 35405, 70769,]\n",
    "result = calculate_difference(l)\n",
    "print(result)\n",
    "\n",
    "result2 = calculate_difference2(result)\n",
    "print(result2)"
   ]
  },
  {
   "cell_type": "code",
   "execution_count": null,
   "metadata": {},
   "outputs": [
    {
     "name": "stdout",
     "output_type": "stream",
     "text": [
      "a[1] = 71\n",
      "a[2] = 213\n",
      "a[3] = 497\n",
      "a[4] = 1061\n",
      "a[5] = 2181\n",
      "a[6] = 4409\n",
      "a[7] = 8849\n",
      "a[8] = 17709\n",
      "a[9] = 35405\n",
      "a[10] = 70769\n",
      "a[11] = 141465\n",
      "a[12] = 282821\n"
     ]
    }
   ],
   "source": [
    "def calculate_an(n):\n",
    "    a = 69\n",
    "    b = 2\n",
    "    c = 2\n",
    "    d = -2\n",
    "    e = -67\n",
    "    \n",
    "    an = a * b**n + c * n**2 + d * n + e\n",
    "    return an\n",
    "\n",
    "for phase_qubit_num in range(1, 13, 1):\n",
    "    print(f\"a[{phase_qubit_num}] = {calculate_an(phase_qubit_num)}\")"
   ]
  },
  {
   "cell_type": "markdown",
   "metadata": {},
   "source": [
    "# vector_qubit_num = 3\n",
    "\n",
    "- 对应数据在 c_results_temp_3.csv"
   ]
  },
  {
   "cell_type": "markdown",
   "metadata": {},
   "source": [
    "## Depth"
   ]
  },
  {
   "cell_type": "code",
   "execution_count": 5,
   "metadata": {},
   "outputs": [
    {
     "name": "stdout",
     "output_type": "stream",
     "text": [
      "[783, 789, 781, 777, 773, 769, 765, 761, 757, 753]\n",
      "[6, -8, -4, -4, -4, -4, -4, -4, -4]\n"
     ]
    }
   ],
   "source": [
    "l = [801, 2385, 5559, 11899, 24575, 49923, 100615, 201995, 404751, 810259, 1621271]\n",
    "result = calculate_difference(l)\n",
    "print(result)\n",
    "\n",
    "result2 = calculate_difference2(result)\n",
    "print(result2)"
   ]
  },
  {
   "cell_type": "code",
   "execution_count": 39,
   "metadata": {},
   "outputs": [
    {
     "name": "stdout",
     "output_type": "stream",
     "text": [
      "a[1] = 799\n",
      "a[2] = 2387\n",
      "a[3] = 5559\n",
      "a[4] = 11899\n",
      "a[5] = 24575\n",
      "a[6] = 49923\n",
      "a[7] = 100615\n",
      "a[8] = 201995\n",
      "a[9] = 404751\n",
      "a[10] = 810259\n",
      "a[11] = 1621271\n",
      "a[12] = 3243291\n"
     ]
    }
   ],
   "source": [
    "def calculate_an(n):\n",
    "    a = 792\n",
    "    b = 2\n",
    "    c = 0\n",
    "    d = 4\n",
    "    e = -789\n",
    "    \n",
    "    an = a * b**n + c * n**2 + d * n + e\n",
    "    return an\n",
    "\n",
    "for phase_qubit_num in range(1, 13, 1):\n",
    "    print(f\"a[{phase_qubit_num}] = {calculate_an(phase_qubit_num)}\")"
   ]
  },
  {
   "cell_type": "markdown",
   "metadata": {},
   "source": [
    "## CNOT"
   ]
  },
  {
   "cell_type": "code",
   "execution_count": 6,
   "metadata": {},
   "outputs": [
    {
     "name": "stdout",
     "output_type": "stream",
     "text": [
      "[417, 417, 413, 405, 393, 377, 357, 333, 305, 273]\n",
      "[0, -4, -8, -12, -16, -20, -24, -28, -32]\n"
     ]
    }
   ],
   "source": [
    "l = [421, 1259, 2935, 6283, 12971, 26335, 53047, 106451, 213235, 426775, 853823]\n",
    "result = calculate_difference(l)\n",
    "print(result)\n",
    "\n",
    "result2 = calculate_difference2(result)\n",
    "print(result2)"
   ]
  },
  {
   "cell_type": "code",
   "execution_count": 45,
   "metadata": {},
   "outputs": [
    {
     "name": "stdout",
     "output_type": "stream",
     "text": [
      "a[1] = 421\n",
      "a[2] = 1259\n",
      "a[3] = 2935\n",
      "a[4] = 6283\n",
      "a[5] = 12971\n",
      "a[6] = 26335\n",
      "a[7] = 53047\n",
      "a[8] = 106451\n",
      "a[9] = 213235\n",
      "a[10] = 426775\n",
      "a[11] = 853823\n",
      "a[12] = 1707883\n"
     ]
    }
   ],
   "source": [
    "def calculate_an(n):\n",
    "    a = 417\n",
    "    b = 2\n",
    "    c = 2\n",
    "    d = -2\n",
    "    e = -413\n",
    "    \n",
    "    an = a * b**n + c * n**2 + d * n + e\n",
    "    return an\n",
    "\n",
    "for phase_qubit_num in range(1, 13, 1):\n",
    "    print(f\"a[{phase_qubit_num}] = {calculate_an(phase_qubit_num)}\")"
   ]
  },
  {
   "cell_type": "markdown",
   "metadata": {},
   "source": [
    "# vector_qubit_num = 4\n",
    "\n",
    "- 对应数据在 c_results_temp_3.csv"
   ]
  },
  {
   "cell_type": "markdown",
   "metadata": {},
   "source": [
    "## Depth"
   ]
  },
  {
   "cell_type": "code",
   "execution_count": 7,
   "metadata": {},
   "outputs": [
    {
     "name": "stdout",
     "output_type": "stream",
     "text": [
      "[3839, 3845, 3837, 3833, 3829, 3825, 3821, 3817, 3813]\n",
      "[6, -8, -4, -4, -4, -4, -4, -4]\n"
     ]
    }
   ],
   "source": [
    "l = [3873, 11585, 27015, 57867, 119567, 242963, 489751, 983323, 1970463, 3944739,]\n",
    "result = calculate_difference(l)\n",
    "print(result)\n",
    "\n",
    "result2 = calculate_difference2(result)\n",
    "print(result2)"
   ]
  },
  {
   "cell_type": "code",
   "execution_count": 67,
   "metadata": {},
   "outputs": [
    {
     "name": "stdout",
     "output_type": "stream",
     "text": [
      "a[1] = 3871\n",
      "a[2] = 11587\n",
      "a[3] = 27015\n",
      "a[4] = 57867\n",
      "a[5] = 119567\n",
      "a[6] = 242963\n",
      "a[7] = 489751\n",
      "a[8] = 983323\n",
      "a[9] = 1970463\n",
      "a[10] = 3944739\n",
      "a[11] = 7893287\n",
      "a[12] = 15790379\n"
     ]
    }
   ],
   "source": [
    "def calculate_an(n):\n",
    "    a = 3856\n",
    "    b = 2\n",
    "    c = 0\n",
    "    d = 4\n",
    "    e = -3845\n",
    "    \n",
    "    an = a * b**n + c * n**2 + d * n + e\n",
    "    return an\n",
    "\n",
    "for phase_qubit_num in range(1, 13, 1):\n",
    "    print(f\"a[{phase_qubit_num}] = {calculate_an(phase_qubit_num)}\")"
   ]
  },
  {
   "cell_type": "markdown",
   "metadata": {},
   "source": [
    "## CNOT"
   ]
  },
  {
   "cell_type": "code",
   "execution_count": 8,
   "metadata": {},
   "outputs": [
    {
     "name": "stdout",
     "output_type": "stream",
     "text": [
      "[2029, 2029, 2025, 2017, 2005, 1989, 1969, 1945, 1917]\n",
      "[0, -4, -8, -12, -16, -20, -24, -28]\n"
     ]
    }
   ],
   "source": [
    "l = [2041, 6111, 14251, 30527, 63071, 128147, 258283, 518535, 1039015, 2079947,]\n",
    "result = calculate_difference(l)\n",
    "print(result)\n",
    "\n",
    "result2 = calculate_difference2(result)\n",
    "print(result2)"
   ]
  },
  {
   "cell_type": "code",
   "execution_count": 78,
   "metadata": {},
   "outputs": [
    {
     "name": "stdout",
     "output_type": "stream",
     "text": [
      "a[1] = 2041\n",
      "a[2] = 6111\n",
      "a[3] = 14251\n",
      "a[4] = 30527\n",
      "a[5] = 63071\n",
      "a[6] = 128147\n",
      "a[7] = 258283\n",
      "a[8] = 518535\n",
      "a[9] = 1039015\n",
      "a[10] = 2079947\n",
      "a[11] = 4161779\n",
      "a[12] = 8325407\n"
     ]
    }
   ],
   "source": [
    "def calculate_an(n):\n",
    "    a = 2033\n",
    "    b = 2\n",
    "    c = 2\n",
    "    d = -2\n",
    "    e = -2025\n",
    "    \n",
    "    an = a * b**n + c * n**2 + d * n + e\n",
    "    return an\n",
    "\n",
    "for phase_qubit_num in range(1, 13, 1):\n",
    "    print(f\"a[{phase_qubit_num}] = {calculate_an(phase_qubit_num)}\")"
   ]
  },
  {
   "cell_type": "code",
   "execution_count": null,
   "metadata": {},
   "outputs": [],
   "source": []
  }
 ],
 "metadata": {
  "kernelspec": {
   "display_name": "quantum-finance",
   "language": "python",
   "name": "python3"
  },
  "language_info": {
   "codemirror_mode": {
    "name": "ipython",
    "version": 3
   },
   "file_extension": ".py",
   "mimetype": "text/x-python",
   "name": "python",
   "nbconvert_exporter": "python",
   "pygments_lexer": "ipython3",
   "version": "3.8.16"
  },
  "orig_nbformat": 4
 },
 "nbformat": 4,
 "nbformat_minor": 2
}
