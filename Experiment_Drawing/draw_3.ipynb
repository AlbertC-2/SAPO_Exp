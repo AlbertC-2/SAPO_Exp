{
 "cells": [
  {
   "cell_type": "markdown",
   "metadata": {},
   "source": [
    "# 用同一组缩放系数 $S$ 可以达到怎样的效果\n",
    "\n",
    "原始的cond, 用固定的$S$, 每次都用优化的方法算出的最优的系数"
   ]
  },
  {
   "cell_type": "markdown",
   "metadata": {},
   "source": [
    "## 原始数据预处理\n",
    "\n",
    "原始数据：\n",
    "- s_output_all.csv\n",
    "- s_output_all_large.csv"
   ]
  },
  {
   "cell_type": "code",
   "execution_count": 2,
   "metadata": {},
   "outputs": [
    {
     "name": "stdout",
     "output_type": "stream",
     "text": [
      "过滤前总行数： 6600\n",
      "过滤后总行数： 6302\n",
      "            original_cond     s_cond  optimized_cond\n",
      "num_assets                                          \n",
      "2             4112.260898  60.035413        5.133652\n",
      "3             9787.001116  45.862896       11.490768\n",
      "4            15446.923168  37.684654       11.881779\n",
      "5            21460.210438  35.659170       14.658939\n",
      "6            27325.267623  37.683854       18.183532\n",
      "7            31793.157813  39.639571       21.531748\n"
     ]
    }
   ],
   "source": [
    "\"\"\"直接取平均会因为异常值, 不好看, 故先过滤\"\"\"\n",
    "import pandas as pd\n",
    "\n",
    "#file_name = f\"result/effect_of_s/s_output_all.csv\"\n",
    "file_name = f\"result/effect_of_s/s_output_all_large.csv\"\n",
    "df = pd.read_csv(file_name)\n",
    "# 过滤 s_cond 值大于 300 的行\n",
    "filtered_df = df[df['s_cond'] < 300]\n",
    "\n",
    "# 输出过滤前后的总行数\n",
    "print(\"过滤前总行数：\", len(df))\n",
    "print(\"过滤后总行数：\", len(filtered_df))\n",
    "\n",
    "# 计算不同 num_assets 下，对于所有的 year 和 comb，original_cond 的平均值\n",
    "original_conds = filtered_df.pivot_table(values='original_cond', index=['num_assets'], aggfunc='mean')\n",
    "s_conds = filtered_df.pivot_table(values='s_cond', index=['num_assets'], aggfunc='mean')\n",
    "optimized_conds = filtered_df.pivot_table(values='optimized_cond', index=['num_assets'], aggfunc='mean')\n",
    "\n",
    "# 将三个数据透视表合并成一个新的数据框\n",
    "result = pd.concat([original_conds, s_conds, optimized_conds], axis=1)\n",
    "\n",
    "print(result)\n",
    "\n",
    "#output_filename = f\"result/effect_of_s/result.csv\"\n",
    "output_filename = f\"result/effect_of_s/result_large.csv\"\n",
    "result.to_csv(output_filename)"
   ]
  },
  {
   "cell_type": "code",
   "execution_count": 7,
   "metadata": {},
   "outputs": [
    {
     "name": "stdout",
     "output_type": "stream",
     "text": [
      "过滤前总行数： 6600\n",
      "过滤后总行数： 6302\n",
      "            original_cond    s_cond  optimized_cond\n",
      "num_assets                                         \n",
      "2               12.005716  5.907742        2.359985\n",
      "3               13.256651  5.519256        3.522403\n",
      "4               13.915032  5.235905        3.570679\n",
      "5               14.389377  5.156201        3.873709\n",
      "6               14.737948  5.235875        4.184561\n",
      "7               14.956429  5.308869        4.428394\n"
     ]
    }
   ],
   "source": [
    "\"\"\"原始的cond太大, 导致可视化不好看, 故取 log\"\"\"\n",
    "import numpy as np\n",
    "import pandas as pd\n",
    "\n",
    "#file_name = f\"result/effect_of_s/s_output_all.csv\"\n",
    "file_name = f\"result/effect_of_s/s_output_all_large.csv\"\n",
    "df = pd.read_csv(file_name)\n",
    "# 过滤 s_cond 值大于 300 的行\n",
    "filtered_df = df[df['s_cond'] < 300]\n",
    "\n",
    "# 输出过滤前后的总行数\n",
    "print(\"过滤前总行数：\", len(df))\n",
    "print(\"过滤后总行数：\", len(filtered_df))\n",
    "\n",
    "# 计算不同 num_assets 下，对于所有的 year 和 comb，original_cond 的平均值\n",
    "original_conds = filtered_df.pivot_table(values='original_cond', index=['num_assets'], aggfunc='mean')\n",
    "s_conds = filtered_df.pivot_table(values='s_cond', index=['num_assets'], aggfunc='mean')\n",
    "optimized_conds = filtered_df.pivot_table(values='optimized_cond', index=['num_assets'], aggfunc='mean')\n",
    "\n",
    "# 计算 log\n",
    "original_conds_log = original_conds.apply(np.log2)\n",
    "s_conds_log = s_conds.apply(np.log2)\n",
    "optimized_conds_log = optimized_conds.apply(np.log2)\n",
    "\n",
    "# 将三个数据透视表合并成一个新的数据框\n",
    "result = pd.concat([original_conds_log, s_conds_log, optimized_conds_log], axis=1)\n",
    "\n",
    "print(result)\n",
    "\n",
    "#output_filename = f\"result/effect_of_s/result_log.csv\"\n",
    "output_filename = f\"result/effect_of_s/result_log_large.csv\"\n",
    "result.to_csv(output_filename)"
   ]
  },
  {
   "cell_type": "code",
   "execution_count": 9,
   "metadata": {},
   "outputs": [
    {
     "name": "stdout",
     "output_type": "stream",
     "text": [
      "            original_cond     s_cond  optimized_cond\n",
      "num_assets                                          \n",
      "2             2719.956291  44.722446        4.792387\n",
      "3             8570.491117  27.120371        8.131762\n",
      "4            13825.384216  22.709895       10.230292\n",
      "5            18967.528180  22.114827       12.700731\n",
      "6            23930.138118  24.707331       15.379867\n",
      "7            28703.221798  28.916090       18.566250\n"
     ]
    }
   ],
   "source": [
    "\"\"\"用取中位数的方式避免数据的过滤\"\"\"\n",
    "import pandas as pd\n",
    "\n",
    "#file_name = f\"result/effect_of_s/s_output_all.csv\"\n",
    "file_name = f\"result/effect_of_s/s_output_all_large.csv\"\n",
    "df = pd.read_csv(file_name)\n",
    "\n",
    "# 按照 num_assets 分组，对所有的 year 和 comb 求各个列的中位数\n",
    "original_cond_median = df.groupby('num_assets').median()['original_cond']\n",
    "s_cond_median = df.groupby('num_assets').median()['s_cond']\n",
    "optimized_cond_median = df.groupby('num_assets').median()['optimized_cond']\n",
    "\n",
    "# 将三个数据透视表合并成一个新的数据框\n",
    "result = pd.concat([original_cond_median, s_cond_median, optimized_cond_median], axis=1)\n",
    "\n",
    "print(result)\n",
    "\n",
    "#output_filename = f\"result/effect_of_s/result_median.csv\"\n",
    "output_filename = f\"result/effect_of_s/result_median_large.csv\"\n",
    "result.to_csv(output_filename)\n"
   ]
  },
  {
   "cell_type": "code",
   "execution_count": 11,
   "metadata": {},
   "outputs": [
    {
     "name": "stdout",
     "output_type": "stream",
     "text": [
      "            original_cond    s_cond  optimized_cond\n",
      "num_assets                                         \n",
      "2               11.409368  5.482927        2.260744\n",
      "3               13.065162  4.761305        3.023568\n",
      "4               13.755032  4.505249        3.354775\n",
      "5               14.211244  4.466942        3.666840\n",
      "6               14.546541  4.626867        3.942971\n",
      "7               14.808925  4.853801        4.214611\n"
     ]
    }
   ],
   "source": [
    "import pandas as pd\n",
    "\n",
    "#file_name = f\"result/effect_of_s/s_output_all.csv\"\n",
    "file_name = f\"result/effect_of_s/s_output_all_large.csv\"\n",
    "df = pd.read_csv(file_name)\n",
    "\n",
    "# 按照 num_assets 分组，对所有的 year 和 comb 求各个列的中位数\n",
    "original_cond_median = df.groupby('num_assets').median()['original_cond']\n",
    "s_cond_median = df.groupby('num_assets').median()['s_cond']\n",
    "optimized_cond_median = df.groupby('num_assets').median()['optimized_cond']\n",
    "\n",
    "original_conds_log = original_cond_median.apply(np.log2)\n",
    "s_conds_log = s_cond_median.apply(np.log2)\n",
    "optimized_conds_log = optimized_cond_median.apply(np.log2)\n",
    "\n",
    "# 将三个数据透视表合并成一个新的数据框\n",
    "result = pd.concat([original_conds_log, s_conds_log, optimized_conds_log], axis=1)\n",
    "\n",
    "print(result)\n",
    "\n",
    "#output_filename = f\"result/effect_of_s/result_median_log.csv\"\n",
    "output_filename = f\"result/effect_of_s/result_median_log_large.csv\"\n",
    "result.to_csv(output_filename)"
   ]
  },
  {
   "cell_type": "markdown",
   "metadata": {},
   "source": [
    "## 作图\n",
    "\n",
    "主要根据 result_median_log.csv 和 result_median_log_large.csv"
   ]
  },
  {
   "cell_type": "code",
   "execution_count": 21,
   "metadata": {},
   "outputs": [
    {
     "name": "stdout",
     "output_type": "stream",
     "text": [
      "   num_assets  original_cond    s_cond  optimized_cond\n",
      "0           2      11.285730  5.928531        2.347240\n",
      "1           3      13.074352  4.901450        3.053776\n",
      "2           4      13.727563  4.520134        3.385701\n",
      "3           5      14.240439  4.509020        3.663309\n",
      "4           6      14.509699  4.567909        3.865968\n",
      "5           7      14.733803  4.875868        4.197023\n"
     ]
    },
    {
     "data": {
      "image/png": "[encoded data removed]",
      "text/plain": [
       "<Figure size 640x480 with 1 Axes>"
      ]
     },
     "metadata": {},
     "output_type": "display_data"
    }
   ],
   "source": [
    "import pandas as pd\n",
    "import numpy as np\n",
    "import seaborn as sns\n",
    "import matplotlib.pyplot as plt\n",
    "\n",
    "# 读取CSV文件\n",
    "res_file = f\"result/effect_of_s/result_median_log.csv\"\n",
    "#res_file = f\"result/effect_of_s/result_median_log_large.csv\"\n",
    "data = pd.read_csv(res_file)\n",
    "# 选取数据\n",
    "df = data[['num_assets', 'original_cond', 's_cond', 'optimized_cond']]\n",
    "# 显示数据\n",
    "print(data)\n",
    "# 重塑数据框\n",
    "df_melt = df.melt('num_assets', var_name='Stat', value_name='Value')\n",
    "# 设置绘图风格\n",
    "sns.set(style='ticks')\n",
    "\"\"\"\n",
    "whitegrid\n",
    "darkgrid: 黑色网格背景风格。\n",
    "white: 白色背景风格，无网格。\n",
    "dark: 黑色背景风格，无网格。\n",
    "ticks: 白色背景风格，显示刻度线。\n",
    "\"\"\"\n",
    "# 构造子图\n",
    "fig, ax = plt.subplots()\n",
    "# 定义每根柱子的颜色，使用RGB元组\n",
    "colors = ['steelblue', 'lightcoral', 'darkgreen']\n",
    "colors = [(147, 181, 207), (35, 118, 183), (20, 74, 116)]\n",
    "colors = [(97, 154, 195), (35, 118, 183), (20, 74, 116)]\n",
    "colors = [(97, 154, 195), (35, 118, 183), (17, 101, 154)]\n",
    "colors = [(97, 154, 195), (22, 119, 179), (17, 90, 154)]\n",
    "\n",
    "colors = [(240, 136, 133), (249, 192, 165), (126, 190, 234)]\n",
    "colors = [(r / 255, g / 255, b / 255) for r, g, b in colors]\n",
    "\n",
    "# 绘制柱状图\n",
    "sns.barplot(x='num_assets', y='Value', hue='Stat', data=df_melt, palette=colors, ax=ax)\n",
    "\n",
    "# 为每个柱子添加边框\n",
    "#for patch in ax.patches:\n",
    "#    patch.set_edgecolor('black')\n",
    "#    patch.set_linewidth(1)\n",
    "\n",
    "# 调整y轴的刻度范围\n",
    "ax.set_ylim(0, 14) \n",
    "\n",
    "# 自定义y轴上的数值标签\n",
    "# 设置自定义的刻度数量\n",
    "num_ticks = 6\n",
    "# 生成等间隔的刻度值\n",
    "custom_y_ticks = np.linspace(ax.get_yticks()[0], ax.get_yticks()[-1], num_ticks)\n",
    "# 自定义y轴上的刻度标签\n",
    "custom_y_labels = [f'{tick:.1f}' for tick in custom_y_ticks]\n",
    "# 设置y轴刻度\n",
    "plt.yticks(custom_y_ticks, custom_y_labels)\n",
    "# 添加空间\n",
    "plt.ylim(top=16.8)  # 调整y轴的上限，用来容纳标签\n",
    "\n",
    "# 添加图例，并设置水平显示\n",
    "ax.legend(loc='upper right', bbox_to_anchor=(1.0, 1.0), ncol=3, borderaxespad=0.4)\n",
    "\"\"\"\n",
    "borderaxespad: 整体离边缘的距离\n",
    "\"\"\"\n",
    "\n",
    "# 设置图表标题和坐标轴标签 TODO 选文字\n",
    "#plt.title('Chart')\n",
    "plt.xlabel('Number of Stocks')\n",
    "plt.ylabel('Median of Cond')\n",
    "\n",
    "# 设置图像的分辨率\n",
    "dpi = 300  # 设置dpi值\n",
    "# 保存图像\n",
    "output_filename = f\"image/effect_of_s/chart_median_log.pdf\"\n",
    "plt.savefig(output_filename, dpi=dpi, bbox_inches='tight')\n",
    "\n",
    "# 显示图表\n",
    "#plt.show()\n"
   ]
  },
  {
   "cell_type": "code",
   "execution_count": null,
   "metadata": {},
   "outputs": [],
   "source": []
  }
 ],
 "metadata": {
  "kernelspec": {
   "display_name": "quantum-finance",
   "language": "python",
   "name": "python3"
  },
  "language_info": {
   "codemirror_mode": {
    "name": "ipython",
    "version": 3
   },
   "file_extension": ".py",
   "mimetype": "text/x-python",
   "name": "python",
   "nbconvert_exporter": "python",
   "pygments_lexer": "ipython3",
   "version": "3.8.16"
  },
  "orig_nbformat": 4
 },
 "nbformat": 4,
 "nbformat_minor": 2
}
